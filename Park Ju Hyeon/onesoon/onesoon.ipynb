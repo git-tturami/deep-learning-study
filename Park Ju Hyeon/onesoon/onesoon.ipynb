{
 "cells": [
  {
   "cell_type": "markdown",
   "metadata": {},
   "source": [
    "# MOSAIC ONESOON"
   ]
  },
  {
   "cell_type": "code",
   "execution_count": 10,
   "metadata": {},
   "outputs": [
    {
     "name": "stdout",
     "output_type": "stream",
     "text": [
      "[[ 552  164  264  264]\n",
      " [1214  546   46   46]]\n"
     ]
    },
    {
     "data": {
      "text/plain": [
       "True"
      ]
     },
     "execution_count": 10,
     "metadata": {},
     "output_type": "execute_result"
    }
   ],
   "source": [
    "import cv2\n",
    "import sys\n",
    "import re\n",
    "\n",
    "mosaic_rate =10\n",
    "image_file = \"onesoon10.jpg\"\n",
    "output_file = re.sub(r'\\,jpg|jpeg|PNG$','-misaic.jpg', image_file)\n",
    "\n",
    "cascade_file = \"./haarcascade/haarcascade_frontalface_alt.xml\"\n",
    "\n",
    "image= cv2.imread(image_file)\n",
    "\n",
    "image_gs = cv2.cvtColor(image, cv2.COLOR_BGR2GRAY)\n",
    "\n",
    "cascade = cv2.CascadeClassifier(cascade_file)\n",
    "\n",
    "face_list = cascade.detectMultiScale(image_gs, scaleFactor=1.1, minNeighbors=1, minSize=(10, 10))\n",
    "\n",
    "if len(face_list) == 0:\n",
    "    print(\"no face\")\n",
    "    quit()\n",
    "    \n",
    "print(face_list)\n",
    "color=(0,0,255)\n",
    "for(x,y,w,h) in face_list:\n",
    "    face_img = image[y:y+h, x:x+w]\n",
    "    face_img = cv2.resize(face_img, (w//mosaic_rate, h//mosaic_rate))\n",
    "    face_img = cv2.resize(face_img, (w,h), interpolation=cv2.INTER_AREA)\n",
    "    \n",
    "    image[y:y+h , x:x+w] = face_img\n",
    "cv2.imwrite(output_file, image)"
   ]
  }
 ],
 "metadata": {
  "kernelspec": {
   "display_name": "Python 3",
   "language": "python",
   "name": "python3"
  },
  "language_info": {
   "codemirror_mode": {
    "name": "ipython",
    "version": 3
   },
   "file_extension": ".py",
   "mimetype": "text/x-python",
   "name": "python",
   "nbconvert_exporter": "python",
   "pygments_lexer": "ipython3",
   "version": "3.7.3"
  }
 },
 "nbformat": 4,
 "nbformat_minor": 2
}
